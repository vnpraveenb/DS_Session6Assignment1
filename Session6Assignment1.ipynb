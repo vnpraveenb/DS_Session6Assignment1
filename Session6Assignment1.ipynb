{
 "cells": [
  {
   "cell_type": "code",
   "execution_count": 1,
   "metadata": {},
   "outputs": [
    {
     "name": "stdout",
     "output_type": "stream",
     "text": [
      "[[   32    16     8     4     2     1]\n",
      " [  243    81    27     9     3     1]\n",
      " [ 1024   256    64    16     4     1]\n",
      " [ 3125   625   125    25     5     1]\n",
      " [ 7776  1296   216    36     6     1]\n",
      " [16807  2401   343    49     7     1]]\n"
     ]
    }
   ],
   "source": [
    "import numpy as np\n",
    "seed_array = [2,3,4,5,6,7] # Intializing the seed array or seed vector\n",
    "vandermonde_matrix = np.vander(seed_array,increasing=False) #Creating the vandermonde matrix from the seed array or vector\n",
    "print(vandermonde_matrix)\n"
   ]
  },
  {
   "cell_type": "code",
   "execution_count": null,
   "metadata": {},
   "outputs": [],
   "source": []
  }
 ],
 "metadata": {
  "kernelspec": {
   "display_name": "Python 3",
   "language": "python",
   "name": "python3"
  },
  "language_info": {
   "codemirror_mode": {
    "name": "ipython",
    "version": 3
   },
   "file_extension": ".py",
   "mimetype": "text/x-python",
   "name": "python",
   "nbconvert_exporter": "python",
   "pygments_lexer": "ipython3",
   "version": "3.6.4"
  }
 },
 "nbformat": 4,
 "nbformat_minor": 2
}
